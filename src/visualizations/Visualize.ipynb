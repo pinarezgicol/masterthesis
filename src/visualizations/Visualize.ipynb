{
 "cells": [
  {
   "cell_type": "code",
   "execution_count": 1,
   "metadata": {},
   "outputs": [],
   "source": [
    "import pandas as pd\n",
    "import seaborn as sns\n",
    "import numpy as np\n",
    "import os\n",
    "import matplotlib.pyplot as plt"
   ]
  },
  {
   "cell_type": "code",
   "execution_count": 2,
   "metadata": {},
   "outputs": [],
   "source": [
    "sns.set(style='whitegrid', font_scale = 3)"
   ]
  },
  {
   "cell_type": "code",
   "execution_count": 3,
   "metadata": {},
   "outputs": [],
   "source": [
    "ACQ_FUNCS = [\"var_ratios\", \"mean_std\", \"max_entropy\", \"bald\", \"uniform\"]\n",
    "# ACQ_FUNCS = [\"var_ratios\"]\n",
    "EXPERIMENT_COUNT = 3\n",
    "latent_dim = 64\n",
    "window = 10"
   ]
  },
  {
   "cell_type": "code",
   "execution_count": 5,
   "metadata": {
    "scrolled": false
   },
   "outputs": [
    {
     "name": "stdout",
     "output_type": "stream",
     "text": [
      "var_ratios\n",
      "                 accuracy\n",
      "method                   \n",
      "BIGAN-DBAL       0.892423\n",
      "DBAL             0.943900\n",
      "MMDVAE-DBAL      0.966147\n",
      "VanillaVAE-DBAL  0.965517\n",
      "mean_std\n",
      "                 accuracy\n",
      "method                   \n",
      "BIGAN-DBAL       0.881307\n",
      "DBAL             0.941163\n",
      "MMDVAE-DBAL      0.961637\n",
      "VanillaVAE-DBAL  0.963877\n",
      "max_entropy\n",
      "                 accuracy\n",
      "method                   \n",
      "BIGAN-DBAL       0.885010\n",
      "DBAL             0.936687\n",
      "MMDVAE-DBAL      0.963573\n",
      "VanillaVAE-DBAL  0.962037\n",
      "bald\n",
      "                 accuracy\n",
      "method                   \n",
      "BIGAN-DBAL       0.876587\n",
      "DBAL             0.943010\n",
      "MMDVAE-DBAL      0.965243\n",
      "VanillaVAE-DBAL  0.951787\n",
      "uniform\n",
      "                 accuracy\n",
      "method                   \n",
      "BIGAN-DBAL       0.869540\n",
      "DBAL             0.917163\n",
      "MMDVAE-DBAL      0.935217\n",
      "VanillaVAE-DBAL  0.939220\n"
     ]
    }
   ],
   "source": [
    "for acq_func in ACQ_FUNCS:\n",
    "    df_all = pd.DataFrame(columns={\"accuracy\", \"number of queried points\", \"method\"})\n",
    "    \n",
    "    for exp_iter in range(EXPERIMENT_COUNT):\n",
    "        acc_dbal, dataset_size = np.load(\"results/mnist_dbal/{acq_func}_exp_{exp_iter}.npy\".format(exp_iter=exp_iter, acq_func=acq_func))\n",
    "\n",
    "        acc_vanilla_vae_dbal, _ = np.load(\"results/mnist_vanillavae_dbal/{acq_func}_latent_dim_{latent_dim}_exp_{exp_iter}.npy\".format(exp_iter=exp_iter, latent_dim=latent_dim, acq_func=acq_func))\n",
    "\n",
    "        acc_mmd_vae_dbal, _ = np.load(\"results/mnist_infovae_dbal/{acq_func}_latent_dim_{latent_dim}_exp_{exp_iter}.npy\".format(exp_iter=exp_iter, latent_dim=latent_dim, acq_func=acq_func))\n",
    "       \n",
    "        acc_bigan_dbal, _ = np.load(\"results/mnist_bigan_dbal/{acq_func}_latent_dim_{latent_dim}_exp_{exp_iter}.npy\".format(exp_iter=exp_iter, latent_dim=latent_dim, acq_func=acq_func))\n",
    "       \n",
    "        acc_aae_dbal, _ = np.load(\"results/mnist_aae_dbal/{acq_func}_latent_dim_{latent_dim}_exp_{exp_iter}.npy\".format(exp_iter=exp_iter, latent_dim=latent_dim, acq_func=acq_func))\n",
    "\n",
    "        df = pd.DataFrame({\"accuracy\": acc_dbal.tolist(), \"number of queried points\": dataset_size.astype(int).tolist()})\n",
    "        df['method'] = \"DBAL\"\n",
    "        df['accuracy'] = df['accuracy'].rolling(window=window).mean()\n",
    "\n",
    "        df_all = df_all.append(df)\n",
    "\n",
    "        df = pd.DataFrame({\"accuracy\": acc_vanilla_vae_dbal.tolist(), \"number of queried points\": dataset_size.astype(int).tolist()})\n",
    "        df['method'] = \"VanillaVAE-DBAL\"\n",
    "        df['accuracy'] = df['accuracy'].rolling(window=window).mean()\n",
    "\n",
    "        df_all = df_all.append(df)\n",
    "        \n",
    "        df = pd.DataFrame({\"accuracy\": acc_mmd_vae_dbal.tolist(), \"number of queried points\": dataset_size.astype(int).tolist()})\n",
    "        df['method'] = \"MMDVAE-DBAL\"\n",
    "        df['accuracy'] = df['accuracy'].rolling(window=window).mean()\n",
    "\n",
    "        df_all = df_all.append(df)\n",
    "        \n",
    "        df = pd.DataFrame({\"accuracy\": acc_bigan_dbal.tolist(), \"number of queried points\": dataset_size.astype(int).tolist()})\n",
    "        df['method'] = \"BIGAN-DBAL\"\n",
    "        df['accuracy'] = df['accuracy'].rolling(window=window).mean()\n",
    "\n",
    "        \n",
    "        df_all = df_all.append(df)\n",
    "        \n",
    "        '''\n",
    "        df = pd.DataFrame({\"accuracy\": acc_aae_dbal.tolist(), \"number of queried points\": dataset_size.astype(int).tolist()})\n",
    "        df['method'] = \"AAE-DBAL\"\n",
    "        df['accuracy'] = df['accuracy'].rolling(window=window).mean()\n",
    "\n",
    "        df_all = df_all.append(df)\n",
    "        '''\n",
    "    print(acq_func)    \n",
    "    print(df_all[df_all[\"number of queried points\"] == 1000].groupby(\"method\").mean())\n",
    "#     plt.figure(figsize=(20, 10))\n",
    "#     plt.title(acq_func)\n",
    "\n",
    "#     df_all = df_all.reset_index().drop(columns=['index'])\n",
    "#     sns.lineplot(data=df_all, x=\"number of queried points\", y=\"accuracy\", hue=\"method\", legend=\"full\", linewidth=5)\n",
    "    \n",
    "#     leg = plt.legend()\n",
    "#     # get the individual lines inside legend and set line width\n",
    "#     for line in leg.get_lines():\n",
    "#         line.set_linewidth(10)\n",
    "\n",
    "#     plt.ylim(0.7, 1.0)\n",
    "#     plt.xlim(20, 1000)\n",
    "\n",
    "#     plt.savefig(\"compare_models_{acq_func}.pdf\".format(acq_func=acq_func))\n",
    "#     plt.show()"
   ]
  }
 ],
 "metadata": {
  "kernelspec": {
   "display_name": "msthesisenv",
   "language": "python",
   "name": "msthesisenv"
  },
  "language_info": {
   "codemirror_mode": {
    "name": "ipython",
    "version": 3
   },
   "file_extension": ".py",
   "mimetype": "text/x-python",
   "name": "python",
   "nbconvert_exporter": "python",
   "pygments_lexer": "ipython3",
   "version": "3.8.1"
  }
 },
 "nbformat": 4,
 "nbformat_minor": 2
}
